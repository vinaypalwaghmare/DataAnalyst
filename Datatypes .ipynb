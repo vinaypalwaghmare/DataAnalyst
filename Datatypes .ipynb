{
 "cells": [
  {
   "cell_type": "markdown",
   "id": "dd3a7066",
   "metadata": {},
   "source": [
    "# Jupyter Shortcuts\n",
    "\n",
    "+ esc + b - Add a new cell below the current cell\n",
    "+ esc + a - Add a new cell above the current cell\n",
    "+ esc + m - Convert a cell to Markdown\n",
    "+ esc + y - Convert a cell to code cell\n",
    "+ esc + x - Delete the current cell"
   ]
  },
  {
   "cell_type": "markdown",
   "id": "0235e281",
   "metadata": {},
   "source": [
    "## Datatype"
   ]
  },
  {
   "cell_type": "code",
   "execution_count": 198,
   "id": "f25ba604",
   "metadata": {},
   "outputs": [],
   "source": [
    "# Integer\n",
    "x = 10"
   ]
  },
  {
   "cell_type": "code",
   "execution_count": 199,
   "id": "c7755fa1",
   "metadata": {},
   "outputs": [
    {
     "name": "stdout",
     "output_type": "stream",
     "text": [
      "10\n"
     ]
    }
   ],
   "source": [
    "print(x)"
   ]
  },
  {
   "cell_type": "code",
   "execution_count": 200,
   "id": "01233f1d",
   "metadata": {},
   "outputs": [
    {
     "data": {
      "text/plain": [
       "int"
      ]
     },
     "execution_count": 200,
     "metadata": {},
     "output_type": "execute_result"
    }
   ],
   "source": [
    "type(x)"
   ]
  },
  {
   "cell_type": "code",
   "execution_count": 201,
   "id": "448de0ba",
   "metadata": {},
   "outputs": [],
   "source": [
    "# Float\n",
    "y = 9.08"
   ]
  },
  {
   "cell_type": "code",
   "execution_count": 202,
   "id": "c2d7e0d4",
   "metadata": {},
   "outputs": [
    {
     "data": {
      "text/plain": [
       "9.08"
      ]
     },
     "execution_count": 202,
     "metadata": {},
     "output_type": "execute_result"
    }
   ],
   "source": [
    "y"
   ]
  },
  {
   "cell_type": "code",
   "execution_count": 203,
   "id": "77263fd8",
   "metadata": {},
   "outputs": [
    {
     "data": {
      "text/plain": [
       "float"
      ]
     },
     "execution_count": 203,
     "metadata": {},
     "output_type": "execute_result"
    }
   ],
   "source": [
    "type(y)"
   ]
  },
  {
   "cell_type": "code",
   "execution_count": 204,
   "id": "a4273c2a",
   "metadata": {},
   "outputs": [],
   "source": [
    "# Boolean\n",
    "z = True"
   ]
  },
  {
   "cell_type": "code",
   "execution_count": 205,
   "id": "a76b77e9",
   "metadata": {},
   "outputs": [
    {
     "name": "stdout",
     "output_type": "stream",
     "text": [
      "True\n"
     ]
    }
   ],
   "source": [
    "print(z)"
   ]
  },
  {
   "cell_type": "code",
   "execution_count": 206,
   "id": "fb194ab5",
   "metadata": {},
   "outputs": [
    {
     "data": {
      "text/plain": [
       "bool"
      ]
     },
     "execution_count": 206,
     "metadata": {},
     "output_type": "execute_result"
    }
   ],
   "source": [
    "type(z)"
   ]
  },
  {
   "cell_type": "markdown",
   "id": "40210b3d",
   "metadata": {},
   "source": [
    "### Arithmetic Operation"
   ]
  },
  {
   "cell_type": "code",
   "execution_count": 207,
   "id": "9deb8dd3",
   "metadata": {},
   "outputs": [],
   "source": [
    "x = 10\n",
    "y = 3"
   ]
  },
  {
   "cell_type": "code",
   "execution_count": 208,
   "id": "9fe747f0",
   "metadata": {},
   "outputs": [
    {
     "data": {
      "text/plain": [
       "13"
      ]
     },
     "execution_count": 208,
     "metadata": {},
     "output_type": "execute_result"
    }
   ],
   "source": [
    "# Addition\n",
    "x + y"
   ]
  },
  {
   "cell_type": "code",
   "execution_count": 209,
   "id": "c8d5883d",
   "metadata": {},
   "outputs": [
    {
     "data": {
      "text/plain": [
       "7"
      ]
     },
     "execution_count": 209,
     "metadata": {},
     "output_type": "execute_result"
    }
   ],
   "source": [
    "# Subtraction\n",
    "x - y"
   ]
  },
  {
   "cell_type": "code",
   "execution_count": 210,
   "id": "67ce1657",
   "metadata": {},
   "outputs": [
    {
     "data": {
      "text/plain": [
       "30"
      ]
     },
     "execution_count": 210,
     "metadata": {},
     "output_type": "execute_result"
    }
   ],
   "source": [
    "# Multiplication\n",
    "x * y"
   ]
  },
  {
   "cell_type": "code",
   "execution_count": 211,
   "id": "8434fc74",
   "metadata": {},
   "outputs": [
    {
     "data": {
      "text/plain": [
       "3.3333333333333335"
      ]
     },
     "execution_count": 211,
     "metadata": {},
     "output_type": "execute_result"
    }
   ],
   "source": [
    "# Division\n",
    "x / y"
   ]
  },
  {
   "cell_type": "code",
   "execution_count": 212,
   "id": "d58f7a10",
   "metadata": {},
   "outputs": [
    {
     "data": {
      "text/plain": [
       "1"
      ]
     },
     "execution_count": 212,
     "metadata": {},
     "output_type": "execute_result"
    }
   ],
   "source": [
    "# Modulo Division\n",
    "x % y"
   ]
  },
  {
   "cell_type": "code",
   "execution_count": 213,
   "id": "612a9ec5",
   "metadata": {},
   "outputs": [
    {
     "data": {
      "text/plain": [
       "3"
      ]
     },
     "execution_count": 213,
     "metadata": {},
     "output_type": "execute_result"
    }
   ],
   "source": [
    "# Floor Division\n",
    "x // y"
   ]
  },
  {
   "cell_type": "code",
   "execution_count": 214,
   "id": "abb544d1",
   "metadata": {},
   "outputs": [
    {
     "data": {
      "text/plain": [
       "-4"
      ]
     },
     "execution_count": 214,
     "metadata": {},
     "output_type": "execute_result"
    }
   ],
   "source": [
    "-x // y"
   ]
  },
  {
   "cell_type": "markdown",
   "id": "c64003d0",
   "metadata": {},
   "source": [
    "## Logical Operation"
   ]
  },
  {
   "cell_type": "markdown",
   "id": "28792223",
   "metadata": {},
   "source": []
  },
  {
   "cell_type": "markdown",
   "id": "9fb280ff",
   "metadata": {},
   "source": [
    "# Truth Table \n",
    "X       Y       AND     OR      NOT(X)  NOT(Y)\n",
    "True    True    True    True    False   False\n",
    "True    False   False   True    False   True\n",
    "False   True    False   Ture    True    False\n",
    "False   False   False   False   True    Ture"
   ]
  },
  {
   "cell_type": "code",
   "execution_count": 215,
   "id": "4067de52",
   "metadata": {},
   "outputs": [],
   "source": [
    "x = True\n",
    "y = False"
   ]
  },
  {
   "cell_type": "code",
   "execution_count": 216,
   "id": "28fc2138",
   "metadata": {},
   "outputs": [
    {
     "data": {
      "text/plain": [
       "True"
      ]
     },
     "execution_count": 216,
     "metadata": {},
     "output_type": "execute_result"
    }
   ],
   "source": [
    "x or y"
   ]
  },
  {
   "cell_type": "code",
   "execution_count": 217,
   "id": "caa69634",
   "metadata": {},
   "outputs": [
    {
     "data": {
      "text/plain": [
       "False"
      ]
     },
     "execution_count": 217,
     "metadata": {},
     "output_type": "execute_result"
    }
   ],
   "source": [
    "x and y"
   ]
  },
  {
   "cell_type": "code",
   "execution_count": 218,
   "id": "1baf7751",
   "metadata": {},
   "outputs": [
    {
     "data": {
      "text/plain": [
       "False"
      ]
     },
     "execution_count": 218,
     "metadata": {},
     "output_type": "execute_result"
    }
   ],
   "source": [
    "not x"
   ]
  },
  {
   "cell_type": "code",
   "execution_count": 219,
   "id": "1358ca36",
   "metadata": {},
   "outputs": [
    {
     "data": {
      "text/plain": [
       "True"
      ]
     },
     "execution_count": 219,
     "metadata": {},
     "output_type": "execute_result"
    }
   ],
   "source": [
    "not y"
   ]
  },
  {
   "cell_type": "code",
   "execution_count": 220,
   "id": "624fef21",
   "metadata": {},
   "outputs": [],
   "source": [
    "x = 10\n",
    "y = 3"
   ]
  },
  {
   "cell_type": "code",
   "execution_count": 221,
   "id": "c67ef602",
   "metadata": {},
   "outputs": [
    {
     "data": {
      "text/plain": [
       "True"
      ]
     },
     "execution_count": 221,
     "metadata": {},
     "output_type": "execute_result"
    }
   ],
   "source": [
    "x > y"
   ]
  },
  {
   "cell_type": "code",
   "execution_count": 222,
   "id": "1739dd75",
   "metadata": {},
   "outputs": [
    {
     "data": {
      "text/plain": [
       "True"
      ]
     },
     "execution_count": 222,
     "metadata": {},
     "output_type": "execute_result"
    }
   ],
   "source": [
    "y < x"
   ]
  },
  {
   "cell_type": "code",
   "execution_count": 223,
   "id": "f381d5e9",
   "metadata": {},
   "outputs": [
    {
     "data": {
      "text/plain": [
       "False"
      ]
     },
     "execution_count": 223,
     "metadata": {},
     "output_type": "execute_result"
    }
   ],
   "source": [
    "x == y"
   ]
  },
  {
   "cell_type": "code",
   "execution_count": 224,
   "id": "3d894f57",
   "metadata": {},
   "outputs": [
    {
     "data": {
      "text/plain": [
       "False"
      ]
     },
     "execution_count": 224,
     "metadata": {},
     "output_type": "execute_result"
    }
   ],
   "source": [
    "x > y and x == y"
   ]
  },
  {
   "cell_type": "markdown",
   "id": "daea0fcc",
   "metadata": {},
   "source": [
    "## Sequence Types"
   ]
  },
  {
   "cell_type": "markdown",
   "id": "b7f6c7f0",
   "metadata": {},
   "source": [
    "### List Properties \n",
    "1. Lists re enclosed in the square brackets  []\n",
    "2. List can store the Hetro genous Data like (int, String, float, boolean, list, tuple, dict..)\n",
    "3. Lists are Mutable in type i.e it can allow the changing of data "
   ]
  },
  {
   "cell_type": "code",
   "execution_count": 225,
   "id": "1ad49a38",
   "metadata": {},
   "outputs": [],
   "source": [
    "# List\n",
    "lst = [56,77,82,35,90]"
   ]
  },
  {
   "cell_type": "code",
   "execution_count": 226,
   "id": "5cb11267",
   "metadata": {},
   "outputs": [
    {
     "data": {
      "text/plain": [
       "[56, 77, 82, 35, 90]"
      ]
     },
     "execution_count": 226,
     "metadata": {},
     "output_type": "execute_result"
    }
   ],
   "source": [
    "lst"
   ]
  },
  {
   "cell_type": "code",
   "execution_count": 227,
   "id": "21b8998a",
   "metadata": {},
   "outputs": [
    {
     "data": {
      "text/plain": [
       "list"
      ]
     },
     "execution_count": 227,
     "metadata": {},
     "output_type": "execute_result"
    }
   ],
   "source": [
    "type(lst)"
   ]
  },
  {
   "cell_type": "markdown",
   "id": "9c9ed1bc",
   "metadata": {},
   "source": [
    "### Tuple Properties \n",
    "1. round Brackets \n",
    "2. Stores HetroGenious data types (Int, string,float, boolean, list, tuple, dict)\n",
    "3. UnMutable data type i.e we can't change the data once the data is store "
   ]
  },
  {
   "cell_type": "code",
   "execution_count": 228,
   "id": "13cb1f96",
   "metadata": {},
   "outputs": [],
   "source": [
    "# Tuple\n",
    "tup = (1,2,3,45,78)"
   ]
  },
  {
   "cell_type": "code",
   "execution_count": 229,
   "id": "1c6c5f47",
   "metadata": {},
   "outputs": [
    {
     "data": {
      "text/plain": [
       "tuple"
      ]
     },
     "execution_count": 229,
     "metadata": {},
     "output_type": "execute_result"
    }
   ],
   "source": [
    "type(tup)"
   ]
  },
  {
   "cell_type": "markdown",
   "id": "ab4add20",
   "metadata": {},
   "source": [
    "### String Properties \n",
    "1. Stings is sequence of characters when you enclose with single, dubble or triple quotations, \n",
    "\n",
    "    . list []\n",
    "    . tuple ()\n",
    "    . dict {}\n",
    "    . string '' or \"\" or \"\"\" \"\"\"\n",
    "\n",
    "2. string conatains diff types of predefined functions like upper, lower "
   ]
  },
  {
   "cell_type": "code",
   "execution_count": 230,
   "id": "a73697dd",
   "metadata": {},
   "outputs": [],
   "source": [
    "# String\n",
    "s1 = 'Python'"
   ]
  },
  {
   "cell_type": "code",
   "execution_count": 231,
   "id": "896f6d6f",
   "metadata": {},
   "outputs": [
    {
     "data": {
      "text/plain": [
       "str"
      ]
     },
     "execution_count": 231,
     "metadata": {},
     "output_type": "execute_result"
    }
   ],
   "source": [
    "type(s1)"
   ]
  },
  {
   "cell_type": "code",
   "execution_count": 232,
   "id": "b4bcc93c",
   "metadata": {},
   "outputs": [],
   "source": [
    "s2 ='''Apple'''"
   ]
  },
  {
   "cell_type": "code",
   "execution_count": 233,
   "id": "ba02c398",
   "metadata": {},
   "outputs": [
    {
     "data": {
      "text/plain": [
       "str"
      ]
     },
     "execution_count": 233,
     "metadata": {},
     "output_type": "execute_result"
    }
   ],
   "source": [
    "type(s2)"
   ]
  },
  {
   "cell_type": "markdown",
   "id": "8a9eabfd",
   "metadata": {},
   "source": [
    "## Positional Indexing"
   ]
  },
  {
   "cell_type": "code",
   "execution_count": 234,
   "id": "b3f62a64",
   "metadata": {},
   "outputs": [],
   "source": [
    "mark_lst = [45,66,79,80,52]"
   ]
  },
  {
   "cell_type": "code",
   "execution_count": 235,
   "id": "174a4e61",
   "metadata": {},
   "outputs": [
    {
     "data": {
      "text/plain": [
       "79"
      ]
     },
     "execution_count": 235,
     "metadata": {},
     "output_type": "execute_result"
    }
   ],
   "source": [
    "mark_lst[2]"
   ]
  },
  {
   "cell_type": "code",
   "execution_count": 236,
   "id": "e392dd2e",
   "metadata": {},
   "outputs": [
    {
     "data": {
      "text/plain": [
       "'l'"
      ]
     },
     "execution_count": 236,
     "metadata": {},
     "output_type": "execute_result"
    }
   ],
   "source": [
    "s2[3]"
   ]
  },
  {
   "cell_type": "code",
   "execution_count": 237,
   "id": "46c83c68",
   "metadata": {},
   "outputs": [],
   "source": [
    "mixed_lst = [10,8.09,True,'Apple',[90,70,80],(1,2,3)]"
   ]
  },
  {
   "cell_type": "code",
   "execution_count": 238,
   "id": "39df5195",
   "metadata": {},
   "outputs": [
    {
     "data": {
      "text/plain": [
       "'Apple'"
      ]
     },
     "execution_count": 238,
     "metadata": {},
     "output_type": "execute_result"
    }
   ],
   "source": [
    "mixed_lst[3]"
   ]
  },
  {
   "cell_type": "code",
   "execution_count": 239,
   "id": "f91159dc",
   "metadata": {},
   "outputs": [
    {
     "data": {
      "text/plain": [
       "70"
      ]
     },
     "execution_count": 239,
     "metadata": {},
     "output_type": "execute_result"
    }
   ],
   "source": [
    "mixed_lst[4][1]"
   ]
  },
  {
   "cell_type": "markdown",
   "id": "4a40a8d6",
   "metadata": {},
   "source": [
    "### Slicing"
   ]
  },
  {
   "cell_type": "code",
   "execution_count": 240,
   "id": "65959eef",
   "metadata": {},
   "outputs": [],
   "source": [
    "mark_lst = [45,66,79,80,52,11,34,88,30,68,23,44,100,54]"
   ]
  },
  {
   "cell_type": "code",
   "execution_count": 241,
   "id": "13d23b7f",
   "metadata": {},
   "outputs": [
    {
     "data": {
      "text/plain": [
       "[80, 52, 11, 34, 88, 30]"
      ]
     },
     "execution_count": 241,
     "metadata": {},
     "output_type": "execute_result"
    }
   ],
   "source": [
    "mark_lst[3:9]"
   ]
  },
  {
   "cell_type": "code",
   "execution_count": 242,
   "id": "a2af6939",
   "metadata": {},
   "outputs": [
    {
     "data": {
      "text/plain": [
       "[45, 66, 79, 80, 52, 11, 34, 88, 30]"
      ]
     },
     "execution_count": 242,
     "metadata": {},
     "output_type": "execute_result"
    }
   ],
   "source": [
    "mark_lst[:9]"
   ]
  },
  {
   "cell_type": "code",
   "execution_count": 243,
   "id": "5e673357",
   "metadata": {},
   "outputs": [
    {
     "data": {
      "text/plain": [
       "[88, 30, 68, 23, 44, 100, 54]"
      ]
     },
     "execution_count": 243,
     "metadata": {},
     "output_type": "execute_result"
    }
   ],
   "source": [
    "mark_lst[7:]"
   ]
  },
  {
   "cell_type": "code",
   "execution_count": 244,
   "id": "8a7a3154",
   "metadata": {},
   "outputs": [
    {
     "data": {
      "text/plain": [
       "[45, 66, 79, 80, 52, 11, 34, 88, 30, 68, 23, 44, 100, 54]"
      ]
     },
     "execution_count": 244,
     "metadata": {},
     "output_type": "execute_result"
    }
   ],
   "source": [
    "mark_lst[:]"
   ]
  },
  {
   "cell_type": "code",
   "execution_count": 245,
   "id": "d7dd5b73",
   "metadata": {},
   "outputs": [
    {
     "data": {
      "text/plain": [
       "[45, 66, 79, 80, 52, 11, 34, 88, 30, 68, 23, 44, 100, 54]"
      ]
     },
     "execution_count": 245,
     "metadata": {},
     "output_type": "execute_result"
    }
   ],
   "source": [
    "mark_lst"
   ]
  },
  {
   "cell_type": "code",
   "execution_count": 246,
   "id": "9f8233c5",
   "metadata": {},
   "outputs": [],
   "source": [
    "s1 = 'I love python'"
   ]
  },
  {
   "cell_type": "code",
   "execution_count": 247,
   "id": "8fb47193",
   "metadata": {},
   "outputs": [
    {
     "data": {
      "text/plain": [
       "'love'"
      ]
     },
     "execution_count": 247,
     "metadata": {},
     "output_type": "execute_result"
    }
   ],
   "source": [
    "s1[2:6]"
   ]
  },
  {
   "cell_type": "code",
   "execution_count": 248,
   "id": "31482ebb",
   "metadata": {},
   "outputs": [
    {
     "data": {
      "text/plain": [
       "'python'"
      ]
     },
     "execution_count": 248,
     "metadata": {},
     "output_type": "execute_result"
    }
   ],
   "source": [
    "s1[7:]"
   ]
  },
  {
   "cell_type": "code",
   "execution_count": 249,
   "id": "6b945499",
   "metadata": {},
   "outputs": [
    {
     "data": {
      "text/plain": [
       "54"
      ]
     },
     "execution_count": 249,
     "metadata": {},
     "output_type": "execute_result"
    }
   ],
   "source": [
    "mark_lst[-1]"
   ]
  },
  {
   "cell_type": "code",
   "execution_count": 250,
   "id": "867519e7",
   "metadata": {},
   "outputs": [
    {
     "data": {
      "text/plain": [
       "(44, 44)"
      ]
     },
     "execution_count": 250,
     "metadata": {},
     "output_type": "execute_result"
    }
   ],
   "source": [
    "mark_lst[11], mark_lst[-3]"
   ]
  },
  {
   "cell_type": "markdown",
   "id": "4585aba0",
   "metadata": {},
   "source": [
    "#### length of a sequence"
   ]
  },
  {
   "cell_type": "code",
   "execution_count": 251,
   "id": "f9602beb",
   "metadata": {},
   "outputs": [
    {
     "data": {
      "text/plain": [
       "14"
      ]
     },
     "execution_count": 251,
     "metadata": {},
     "output_type": "execute_result"
    }
   ],
   "source": [
    "len(mark_lst)"
   ]
  },
  {
   "cell_type": "code",
   "execution_count": 252,
   "id": "bd0f0d40",
   "metadata": {},
   "outputs": [
    {
     "data": {
      "text/plain": [
       "13"
      ]
     },
     "execution_count": 252,
     "metadata": {},
     "output_type": "execute_result"
    }
   ],
   "source": [
    "len(s1)"
   ]
  },
  {
   "cell_type": "code",
   "execution_count": 253,
   "id": "52555f00",
   "metadata": {},
   "outputs": [
    {
     "data": {
      "text/plain": [
       "5"
      ]
     },
     "execution_count": 253,
     "metadata": {},
     "output_type": "execute_result"
    }
   ],
   "source": [
    "len(tup)"
   ]
  },
  {
   "cell_type": "markdown",
   "id": "2759b4ac",
   "metadata": {},
   "source": [
    "### membership operation"
   ]
  },
  {
   "cell_type": "code",
   "execution_count": 254,
   "id": "4e7d9186",
   "metadata": {},
   "outputs": [
    {
     "data": {
      "text/plain": [
       "[45, 66, 79, 80, 52, 11, 34, 88, 30, 68, 23, 44, 100, 54]"
      ]
     },
     "execution_count": 254,
     "metadata": {},
     "output_type": "execute_result"
    }
   ],
   "source": [
    "mark_lst"
   ]
  },
  {
   "cell_type": "code",
   "execution_count": 255,
   "id": "180a026c",
   "metadata": {},
   "outputs": [
    {
     "data": {
      "text/plain": [
       "True"
      ]
     },
     "execution_count": 255,
     "metadata": {},
     "output_type": "execute_result"
    }
   ],
   "source": [
    "80 in mark_lst"
   ]
  },
  {
   "cell_type": "code",
   "execution_count": 256,
   "id": "bdd71356",
   "metadata": {},
   "outputs": [
    {
     "data": {
      "text/plain": [
       "(False, True)"
      ]
     },
     "execution_count": 256,
     "metadata": {},
     "output_type": "execute_result"
    }
   ],
   "source": [
    "111 in mark_lst, 111 not in mark_lst"
   ]
  },
  {
   "cell_type": "code",
   "execution_count": 257,
   "id": "b5fce7e1",
   "metadata": {},
   "outputs": [
    {
     "data": {
      "text/plain": [
       "True"
      ]
     },
     "execution_count": 257,
     "metadata": {},
     "output_type": "execute_result"
    }
   ],
   "source": [
    "'t' in s1"
   ]
  },
  {
   "cell_type": "code",
   "execution_count": 258,
   "id": "fbfb7757",
   "metadata": {},
   "outputs": [
    {
     "data": {
      "text/plain": [
       "False"
      ]
     },
     "execution_count": 258,
     "metadata": {},
     "output_type": "execute_result"
    }
   ],
   "source": [
    "'z' in s1"
   ]
  },
  {
   "cell_type": "code",
   "execution_count": 259,
   "id": "2a95d557",
   "metadata": {},
   "outputs": [
    {
     "data": {
      "text/plain": [
       "True"
      ]
     },
     "execution_count": 259,
     "metadata": {},
     "output_type": "execute_result"
    }
   ],
   "source": [
    "1 in tup"
   ]
  },
  {
   "cell_type": "code",
   "execution_count": 260,
   "id": "3e4ead50",
   "metadata": {},
   "outputs": [
    {
     "data": {
      "text/plain": [
       "False"
      ]
     },
     "execution_count": 260,
     "metadata": {},
     "output_type": "execute_result"
    }
   ],
   "source": [
    "100 in tup"
   ]
  },
  {
   "cell_type": "code",
   "execution_count": 261,
   "id": "2f9e7115",
   "metadata": {},
   "outputs": [],
   "source": [
    "mylst = [1,2,3]"
   ]
  },
  {
   "cell_type": "markdown",
   "id": "781fe6a9",
   "metadata": {},
   "source": [
    "### Repetition"
   ]
  },
  {
   "cell_type": "code",
   "execution_count": 262,
   "id": "ef395832",
   "metadata": {},
   "outputs": [
    {
     "data": {
      "text/plain": [
       "[1, 2, 3, 1, 2, 3, 1, 2, 3]"
      ]
     },
     "execution_count": 262,
     "metadata": {},
     "output_type": "execute_result"
    }
   ],
   "source": [
    "mylst * 3"
   ]
  },
  {
   "cell_type": "code",
   "execution_count": 263,
   "id": "b86117bd",
   "metadata": {},
   "outputs": [],
   "source": [
    "s1 = \"Hello\""
   ]
  },
  {
   "cell_type": "code",
   "execution_count": 264,
   "id": "8bdca25b",
   "metadata": {},
   "outputs": [
    {
     "data": {
      "text/plain": [
       "'HelloHelloHello'"
      ]
     },
     "execution_count": 264,
     "metadata": {},
     "output_type": "execute_result"
    }
   ],
   "source": [
    "s1 * 3"
   ]
  },
  {
   "cell_type": "markdown",
   "id": "bc598d4e",
   "metadata": {},
   "source": [
    "### Concatenation"
   ]
  },
  {
   "cell_type": "code",
   "execution_count": 265,
   "id": "b0127164",
   "metadata": {},
   "outputs": [],
   "source": [
    "ls1 = [1,2,3]\n",
    "ls2 = [4,5,6]"
   ]
  },
  {
   "cell_type": "code",
   "execution_count": 266,
   "id": "6ccd6507",
   "metadata": {},
   "outputs": [
    {
     "data": {
      "text/plain": [
       "[1, 2, 3, 4, 5, 6]"
      ]
     },
     "execution_count": 266,
     "metadata": {},
     "output_type": "execute_result"
    }
   ],
   "source": [
    "ls1 + ls2"
   ]
  },
  {
   "cell_type": "code",
   "execution_count": 267,
   "id": "eff66250",
   "metadata": {},
   "outputs": [],
   "source": [
    "s2 = 'Hello'\n",
    "s3 = ' '\n",
    "s1 ='world'"
   ]
  },
  {
   "cell_type": "code",
   "execution_count": 268,
   "id": "3c8a92ae",
   "metadata": {},
   "outputs": [
    {
     "data": {
      "text/plain": [
       "'world Hello'"
      ]
     },
     "execution_count": 268,
     "metadata": {},
     "output_type": "execute_result"
    }
   ],
   "source": [
    "s1 + s3 + s2"
   ]
  },
  {
   "cell_type": "markdown",
   "id": "008fc31c",
   "metadata": {},
   "source": [
    "### max() and min()"
   ]
  },
  {
   "cell_type": "code",
   "execution_count": 269,
   "id": "45f239cc",
   "metadata": {},
   "outputs": [
    {
     "data": {
      "text/plain": [
       "[56, 77, 82, 35, 90]"
      ]
     },
     "execution_count": 269,
     "metadata": {},
     "output_type": "execute_result"
    }
   ],
   "source": [
    "lst"
   ]
  },
  {
   "cell_type": "code",
   "execution_count": 270,
   "id": "722d6380",
   "metadata": {},
   "outputs": [
    {
     "data": {
      "text/plain": [
       "90"
      ]
     },
     "execution_count": 270,
     "metadata": {},
     "output_type": "execute_result"
    }
   ],
   "source": [
    "max(lst)"
   ]
  },
  {
   "cell_type": "code",
   "execution_count": 271,
   "id": "13add312",
   "metadata": {},
   "outputs": [
    {
     "data": {
      "text/plain": [
       "35"
      ]
     },
     "execution_count": 271,
     "metadata": {},
     "output_type": "execute_result"
    }
   ],
   "source": [
    "min(lst)"
   ]
  },
  {
   "cell_type": "code",
   "execution_count": 272,
   "id": "c332d47b",
   "metadata": {},
   "outputs": [
    {
     "data": {
      "text/plain": [
       "'w'"
      ]
     },
     "execution_count": 272,
     "metadata": {},
     "output_type": "execute_result"
    }
   ],
   "source": [
    "max(s1)"
   ]
  },
  {
   "cell_type": "code",
   "execution_count": 273,
   "id": "b116d19b",
   "metadata": {},
   "outputs": [
    {
     "data": {
      "text/plain": [
       "'o'"
      ]
     },
     "execution_count": 273,
     "metadata": {},
     "output_type": "execute_result"
    }
   ],
   "source": [
    "max(s2)"
   ]
  },
  {
   "cell_type": "markdown",
   "id": "35e0109f",
   "metadata": {},
   "source": [
    "### List Specific Methods"
   ]
  },
  {
   "cell_type": "code",
   "execution_count": 274,
   "id": "9fcc5e3a",
   "metadata": {},
   "outputs": [
    {
     "data": {
      "text/plain": [
       "['__add__',\n",
       " '__class__',\n",
       " '__class_getitem__',\n",
       " '__contains__',\n",
       " '__delattr__',\n",
       " '__delitem__',\n",
       " '__dir__',\n",
       " '__doc__',\n",
       " '__eq__',\n",
       " '__format__',\n",
       " '__ge__',\n",
       " '__getattribute__',\n",
       " '__getitem__',\n",
       " '__gt__',\n",
       " '__hash__',\n",
       " '__iadd__',\n",
       " '__imul__',\n",
       " '__init__',\n",
       " '__init_subclass__',\n",
       " '__iter__',\n",
       " '__le__',\n",
       " '__len__',\n",
       " '__lt__',\n",
       " '__mul__',\n",
       " '__ne__',\n",
       " '__new__',\n",
       " '__reduce__',\n",
       " '__reduce_ex__',\n",
       " '__repr__',\n",
       " '__reversed__',\n",
       " '__rmul__',\n",
       " '__setattr__',\n",
       " '__setitem__',\n",
       " '__sizeof__',\n",
       " '__str__',\n",
       " '__subclasshook__',\n",
       " 'append',\n",
       " 'clear',\n",
       " 'copy',\n",
       " 'count',\n",
       " 'extend',\n",
       " 'index',\n",
       " 'insert',\n",
       " 'pop',\n",
       " 'remove',\n",
       " 'reverse',\n",
       " 'sort']"
      ]
     },
     "execution_count": 274,
     "metadata": {},
     "output_type": "execute_result"
    }
   ],
   "source": [
    "dir(list)"
   ]
  },
  {
   "cell_type": "markdown",
   "id": "c2922355",
   "metadata": {},
   "source": [
    "### Adding elements to a list"
   ]
  },
  {
   "cell_type": "code",
   "execution_count": 275,
   "id": "9c84aa69",
   "metadata": {},
   "outputs": [],
   "source": [
    "shop_list = ['Apple','Bread','Coffee','Avocado']"
   ]
  },
  {
   "cell_type": "code",
   "execution_count": 276,
   "id": "fcf2c427",
   "metadata": {},
   "outputs": [],
   "source": [
    "shop_list.append('Butter')"
   ]
  },
  {
   "cell_type": "code",
   "execution_count": 277,
   "id": "988877a5",
   "metadata": {},
   "outputs": [
    {
     "data": {
      "text/plain": [
       "['Apple', 'Bread', 'Coffee', 'Avocado', 'Butter']"
      ]
     },
     "execution_count": 277,
     "metadata": {},
     "output_type": "execute_result"
    }
   ],
   "source": [
    "shop_list"
   ]
  },
  {
   "cell_type": "code",
   "execution_count": 278,
   "id": "e5c1da63",
   "metadata": {},
   "outputs": [],
   "source": [
    "shop_list.insert(2,'Jam')"
   ]
  },
  {
   "cell_type": "code",
   "execution_count": 279,
   "id": "21f67913",
   "metadata": {},
   "outputs": [
    {
     "data": {
      "text/plain": [
       "['Apple', 'Bread', 'Jam', 'Coffee', 'Avocado', 'Butter']"
      ]
     },
     "execution_count": 279,
     "metadata": {},
     "output_type": "execute_result"
    }
   ],
   "source": [
    "shop_list"
   ]
  },
  {
   "cell_type": "code",
   "execution_count": 280,
   "id": "f7413b20",
   "metadata": {},
   "outputs": [
    {
     "data": {
      "text/plain": [
       "6"
      ]
     },
     "execution_count": 280,
     "metadata": {},
     "output_type": "execute_result"
    }
   ],
   "source": [
    "len(shop_list)"
   ]
  },
  {
   "cell_type": "code",
   "execution_count": 281,
   "id": "77460f7f",
   "metadata": {},
   "outputs": [],
   "source": [
    "shop_list.append(['Pen','Pencil','Notebook'])"
   ]
  },
  {
   "cell_type": "code",
   "execution_count": 282,
   "id": "5462cedf",
   "metadata": {},
   "outputs": [
    {
     "data": {
      "text/plain": [
       "7"
      ]
     },
     "execution_count": 282,
     "metadata": {},
     "output_type": "execute_result"
    }
   ],
   "source": [
    "len(shop_list)"
   ]
  },
  {
   "cell_type": "code",
   "execution_count": 283,
   "id": "aca6053c",
   "metadata": {},
   "outputs": [
    {
     "data": {
      "text/plain": [
       "['Apple',\n",
       " 'Bread',\n",
       " 'Jam',\n",
       " 'Coffee',\n",
       " 'Avocado',\n",
       " 'Butter',\n",
       " ['Pen', 'Pencil', 'Notebook']]"
      ]
     },
     "execution_count": 283,
     "metadata": {},
     "output_type": "execute_result"
    }
   ],
   "source": [
    "shop_list"
   ]
  },
  {
   "cell_type": "code",
   "execution_count": 284,
   "id": "6c3c88bb",
   "metadata": {},
   "outputs": [],
   "source": [
    "shop_list.append((1,2))"
   ]
  },
  {
   "cell_type": "code",
   "execution_count": 285,
   "id": "cf51b27e",
   "metadata": {},
   "outputs": [
    {
     "data": {
      "text/plain": [
       "['Apple',\n",
       " 'Bread',\n",
       " 'Jam',\n",
       " 'Coffee',\n",
       " 'Avocado',\n",
       " 'Butter',\n",
       " ['Pen', 'Pencil', 'Notebook'],\n",
       " (1, 2)]"
      ]
     },
     "execution_count": 285,
     "metadata": {},
     "output_type": "execute_result"
    }
   ],
   "source": [
    "shop_list"
   ]
  },
  {
   "cell_type": "code",
   "execution_count": 286,
   "id": "ff9d30e8",
   "metadata": {},
   "outputs": [],
   "source": [
    "shop_list.extend(['Milk','Flour','ToothPaste'])"
   ]
  },
  {
   "cell_type": "code",
   "execution_count": 287,
   "id": "066af2c9",
   "metadata": {},
   "outputs": [
    {
     "data": {
      "text/plain": [
       "['Apple',\n",
       " 'Bread',\n",
       " 'Jam',\n",
       " 'Coffee',\n",
       " 'Avocado',\n",
       " 'Butter',\n",
       " ['Pen', 'Pencil', 'Notebook'],\n",
       " (1, 2),\n",
       " 'Milk',\n",
       " 'Flour',\n",
       " 'ToothPaste']"
      ]
     },
     "execution_count": 287,
     "metadata": {},
     "output_type": "execute_result"
    }
   ],
   "source": [
    "shop_list"
   ]
  },
  {
   "cell_type": "code",
   "execution_count": 288,
   "id": "7698df08",
   "metadata": {},
   "outputs": [],
   "source": [
    "shop_list.extend((1,2,3))"
   ]
  },
  {
   "cell_type": "code",
   "execution_count": 289,
   "id": "a6099037",
   "metadata": {},
   "outputs": [
    {
     "data": {
      "text/plain": [
       "['Apple',\n",
       " 'Bread',\n",
       " 'Jam',\n",
       " 'Coffee',\n",
       " 'Avocado',\n",
       " 'Butter',\n",
       " ['Pen', 'Pencil', 'Notebook'],\n",
       " (1, 2),\n",
       " 'Milk',\n",
       " 'Flour',\n",
       " 'ToothPaste',\n",
       " 1,\n",
       " 2,\n",
       " 3]"
      ]
     },
     "execution_count": 289,
     "metadata": {},
     "output_type": "execute_result"
    }
   ],
   "source": [
    "shop_list"
   ]
  },
  {
   "cell_type": "code",
   "execution_count": 290,
   "id": "f9ab1eaf",
   "metadata": {},
   "outputs": [],
   "source": [
    "shop_list.extend(\"abc\")"
   ]
  },
  {
   "cell_type": "code",
   "execution_count": 291,
   "id": "1dd5f903",
   "metadata": {},
   "outputs": [
    {
     "data": {
      "text/plain": [
       "['Apple',\n",
       " 'Bread',\n",
       " 'Jam',\n",
       " 'Coffee',\n",
       " 'Avocado',\n",
       " 'Butter',\n",
       " ['Pen', 'Pencil', 'Notebook'],\n",
       " (1, 2),\n",
       " 'Milk',\n",
       " 'Flour',\n",
       " 'ToothPaste',\n",
       " 1,\n",
       " 2,\n",
       " 3,\n",
       " 'a',\n",
       " 'b',\n",
       " 'c']"
      ]
     },
     "execution_count": 291,
     "metadata": {},
     "output_type": "execute_result"
    }
   ],
   "source": [
    "shop_list"
   ]
  },
  {
   "cell_type": "markdown",
   "id": "b97e0475",
   "metadata": {},
   "source": [
    "#### Replace a element"
   ]
  },
  {
   "cell_type": "code",
   "execution_count": 292,
   "id": "6742a0ec",
   "metadata": {},
   "outputs": [],
   "source": [
    "shop_list[3] = 'Tea'"
   ]
  },
  {
   "cell_type": "code",
   "execution_count": 293,
   "id": "c59f07f4",
   "metadata": {},
   "outputs": [
    {
     "data": {
      "text/plain": [
       "['Apple',\n",
       " 'Bread',\n",
       " 'Jam',\n",
       " 'Tea',\n",
       " 'Avocado',\n",
       " 'Butter',\n",
       " ['Pen', 'Pencil', 'Notebook'],\n",
       " (1, 2),\n",
       " 'Milk',\n",
       " 'Flour',\n",
       " 'ToothPaste',\n",
       " 1,\n",
       " 2,\n",
       " 3,\n",
       " 'a',\n",
       " 'b',\n",
       " 'c']"
      ]
     },
     "execution_count": 293,
     "metadata": {},
     "output_type": "execute_result"
    }
   ],
   "source": [
    "shop_list"
   ]
  },
  {
   "cell_type": "code",
   "execution_count": 294,
   "id": "a19949cd",
   "metadata": {},
   "outputs": [],
   "source": [
    "shop_list[6][1]='Ball Pen'"
   ]
  },
  {
   "cell_type": "code",
   "execution_count": 295,
   "id": "f72c24b4",
   "metadata": {},
   "outputs": [
    {
     "data": {
      "text/plain": [
       "['Apple',\n",
       " 'Bread',\n",
       " 'Jam',\n",
       " 'Tea',\n",
       " 'Avocado',\n",
       " 'Butter',\n",
       " ['Pen', 'Ball Pen', 'Notebook'],\n",
       " (1, 2),\n",
       " 'Milk',\n",
       " 'Flour',\n",
       " 'ToothPaste',\n",
       " 1,\n",
       " 2,\n",
       " 3,\n",
       " 'a',\n",
       " 'b',\n",
       " 'c']"
      ]
     },
     "execution_count": 295,
     "metadata": {},
     "output_type": "execute_result"
    }
   ],
   "source": [
    "shop_list"
   ]
  },
  {
   "cell_type": "markdown",
   "id": "d140c25d",
   "metadata": {},
   "source": [
    "### Remove elements from a list"
   ]
  },
  {
   "cell_type": "code",
   "execution_count": 296,
   "id": "ba5919df",
   "metadata": {},
   "outputs": [
    {
     "data": {
      "text/plain": [
       "'c'"
      ]
     },
     "execution_count": 296,
     "metadata": {},
     "output_type": "execute_result"
    }
   ],
   "source": [
    "shop_list.pop()"
   ]
  },
  {
   "cell_type": "code",
   "execution_count": 297,
   "id": "75228a24",
   "metadata": {},
   "outputs": [
    {
     "data": {
      "text/plain": [
       "['Apple',\n",
       " 'Bread',\n",
       " 'Jam',\n",
       " 'Tea',\n",
       " 'Avocado',\n",
       " 'Butter',\n",
       " ['Pen', 'Ball Pen', 'Notebook'],\n",
       " (1, 2),\n",
       " 'Milk',\n",
       " 'Flour',\n",
       " 'ToothPaste',\n",
       " 1,\n",
       " 2,\n",
       " 3,\n",
       " 'a',\n",
       " 'b']"
      ]
     },
     "execution_count": 297,
     "metadata": {},
     "output_type": "execute_result"
    }
   ],
   "source": [
    "shop_list"
   ]
  },
  {
   "cell_type": "code",
   "execution_count": 298,
   "id": "e29638d8",
   "metadata": {},
   "outputs": [
    {
     "data": {
      "text/plain": [
       "'b'"
      ]
     },
     "execution_count": 298,
     "metadata": {},
     "output_type": "execute_result"
    }
   ],
   "source": [
    "shop_list.pop()"
   ]
  },
  {
   "cell_type": "code",
   "execution_count": 299,
   "id": "c3166d3e",
   "metadata": {},
   "outputs": [
    {
     "data": {
      "text/plain": [
       "['Apple',\n",
       " 'Bread',\n",
       " 'Jam',\n",
       " 'Tea',\n",
       " 'Avocado',\n",
       " 'Butter',\n",
       " ['Pen', 'Ball Pen', 'Notebook'],\n",
       " (1, 2),\n",
       " 'Milk',\n",
       " 'Flour',\n",
       " 'ToothPaste',\n",
       " 1,\n",
       " 2,\n",
       " 3,\n",
       " 'a']"
      ]
     },
     "execution_count": 299,
     "metadata": {},
     "output_type": "execute_result"
    }
   ],
   "source": [
    "shop_list"
   ]
  },
  {
   "cell_type": "code",
   "execution_count": 300,
   "id": "6a6335bb",
   "metadata": {},
   "outputs": [
    {
     "data": {
      "text/plain": [
       "'Jam'"
      ]
     },
     "execution_count": 300,
     "metadata": {},
     "output_type": "execute_result"
    }
   ],
   "source": [
    "shop_list.pop(2)"
   ]
  },
  {
   "cell_type": "code",
   "execution_count": 301,
   "id": "e1874858",
   "metadata": {},
   "outputs": [
    {
     "data": {
      "text/plain": [
       "['Apple',\n",
       " 'Bread',\n",
       " 'Tea',\n",
       " 'Avocado',\n",
       " 'Butter',\n",
       " ['Pen', 'Ball Pen', 'Notebook'],\n",
       " (1, 2),\n",
       " 'Milk',\n",
       " 'Flour',\n",
       " 'ToothPaste',\n",
       " 1,\n",
       " 2,\n",
       " 3,\n",
       " 'a']"
      ]
     },
     "execution_count": 301,
     "metadata": {},
     "output_type": "execute_result"
    }
   ],
   "source": [
    "shop_list"
   ]
  },
  {
   "cell_type": "code",
   "execution_count": 302,
   "id": "8ecbb53e",
   "metadata": {},
   "outputs": [],
   "source": [
    "shop_list.remove('ToothPaste')"
   ]
  },
  {
   "cell_type": "code",
   "execution_count": 303,
   "id": "8f014ad8",
   "metadata": {},
   "outputs": [
    {
     "data": {
      "text/plain": [
       "['Apple',\n",
       " 'Bread',\n",
       " 'Tea',\n",
       " 'Avocado',\n",
       " 'Butter',\n",
       " ['Pen', 'Ball Pen', 'Notebook'],\n",
       " (1, 2),\n",
       " 'Milk',\n",
       " 'Flour',\n",
       " 1,\n",
       " 2,\n",
       " 3,\n",
       " 'a']"
      ]
     },
     "execution_count": 303,
     "metadata": {},
     "output_type": "execute_result"
    }
   ],
   "source": [
    "shop_list"
   ]
  },
  {
   "cell_type": "code",
   "execution_count": 304,
   "id": "88c49471",
   "metadata": {},
   "outputs": [],
   "source": [
    "shop_list[5].remove('Pen')"
   ]
  },
  {
   "cell_type": "code",
   "execution_count": 305,
   "id": "9eeef777",
   "metadata": {},
   "outputs": [
    {
     "data": {
      "text/plain": [
       "['Apple',\n",
       " 'Bread',\n",
       " 'Tea',\n",
       " 'Avocado',\n",
       " 'Butter',\n",
       " ['Ball Pen', 'Notebook'],\n",
       " (1, 2),\n",
       " 'Milk',\n",
       " 'Flour',\n",
       " 1,\n",
       " 2,\n",
       " 3,\n",
       " 'a']"
      ]
     },
     "execution_count": 305,
     "metadata": {},
     "output_type": "execute_result"
    }
   ],
   "source": [
    "shop_list"
   ]
  },
  {
   "cell_type": "code",
   "execution_count": 306,
   "id": "74a54d5d",
   "metadata": {},
   "outputs": [],
   "source": [
    "shop_list.clear()"
   ]
  },
  {
   "cell_type": "code",
   "execution_count": 307,
   "id": "2ed78f93",
   "metadata": {},
   "outputs": [
    {
     "data": {
      "text/plain": [
       "[]"
      ]
     },
     "execution_count": 307,
     "metadata": {},
     "output_type": "execute_result"
    }
   ],
   "source": [
    "shop_list"
   ]
  },
  {
   "cell_type": "code",
   "execution_count": 308,
   "id": "15633327",
   "metadata": {},
   "outputs": [],
   "source": [
    "shop_list = ['Apple','Bread','Coffee','Avocado','Bread']"
   ]
  },
  {
   "cell_type": "code",
   "execution_count": 309,
   "id": "e33ef5e9",
   "metadata": {},
   "outputs": [
    {
     "data": {
      "text/plain": [
       "2"
      ]
     },
     "execution_count": 309,
     "metadata": {},
     "output_type": "execute_result"
    }
   ],
   "source": [
    "shop_list.index('Coffee')"
   ]
  },
  {
   "cell_type": "code",
   "execution_count": 310,
   "id": "79387b27",
   "metadata": {},
   "outputs": [
    {
     "data": {
      "text/plain": [
       "1"
      ]
     },
     "execution_count": 310,
     "metadata": {},
     "output_type": "execute_result"
    }
   ],
   "source": [
    "shop_list.index('Bread')"
   ]
  },
  {
   "cell_type": "code",
   "execution_count": 311,
   "id": "8672c300",
   "metadata": {},
   "outputs": [
    {
     "data": {
      "text/plain": [
       "2"
      ]
     },
     "execution_count": 311,
     "metadata": {},
     "output_type": "execute_result"
    }
   ],
   "source": [
    "shop_list.count('Bread')"
   ]
  },
  {
   "cell_type": "code",
   "execution_count": 312,
   "id": "9c304d05",
   "metadata": {},
   "outputs": [
    {
     "data": {
      "text/plain": [
       "1"
      ]
     },
     "execution_count": 312,
     "metadata": {},
     "output_type": "execute_result"
    }
   ],
   "source": [
    "shop_list.count('Avocado')"
   ]
  },
  {
   "cell_type": "markdown",
   "id": "7ea1fc75",
   "metadata": {},
   "source": [
    "### sort()"
   ]
  },
  {
   "cell_type": "code",
   "execution_count": 313,
   "id": "33b9ce84",
   "metadata": {},
   "outputs": [],
   "source": [
    "marks = [34,12,67,56,90,87]"
   ]
  },
  {
   "cell_type": "code",
   "execution_count": 314,
   "id": "1e225f00",
   "metadata": {},
   "outputs": [],
   "source": [
    "marks.sort()"
   ]
  },
  {
   "cell_type": "code",
   "execution_count": 315,
   "id": "ca7124dd",
   "metadata": {},
   "outputs": [
    {
     "data": {
      "text/plain": [
       "[12, 34, 56, 67, 87, 90]"
      ]
     },
     "execution_count": 315,
     "metadata": {},
     "output_type": "execute_result"
    }
   ],
   "source": [
    "marks"
   ]
  },
  {
   "cell_type": "code",
   "execution_count": 316,
   "id": "5fef1bb5",
   "metadata": {},
   "outputs": [],
   "source": [
    "marks = [34,12,67,56,90,87]"
   ]
  },
  {
   "cell_type": "code",
   "execution_count": 317,
   "id": "ebbf49e2",
   "metadata": {},
   "outputs": [],
   "source": [
    "marks.sort(reverse=True)"
   ]
  },
  {
   "cell_type": "code",
   "execution_count": 318,
   "id": "b9a82d04",
   "metadata": {},
   "outputs": [
    {
     "data": {
      "text/plain": [
       "[90, 87, 67, 56, 34, 12]"
      ]
     },
     "execution_count": 318,
     "metadata": {},
     "output_type": "execute_result"
    }
   ],
   "source": [
    "marks"
   ]
  },
  {
   "cell_type": "code",
   "execution_count": 319,
   "id": "cccf37b0",
   "metadata": {},
   "outputs": [],
   "source": [
    "marks = [34,12,67,56,90,87]"
   ]
  },
  {
   "cell_type": "code",
   "execution_count": 320,
   "id": "5211b29f",
   "metadata": {},
   "outputs": [],
   "source": [
    "marks.reverse()"
   ]
  },
  {
   "cell_type": "code",
   "execution_count": 321,
   "id": "bd38c376",
   "metadata": {},
   "outputs": [
    {
     "data": {
      "text/plain": [
       "[87, 90, 56, 67, 12, 34]"
      ]
     },
     "execution_count": 321,
     "metadata": {},
     "output_type": "execute_result"
    }
   ],
   "source": [
    "marks"
   ]
  },
  {
   "cell_type": "code",
   "execution_count": 322,
   "id": "1d88b095",
   "metadata": {},
   "outputs": [],
   "source": [
    "shop_list = ['Apple','Bread','Coffee','Avocado','Bread']"
   ]
  },
  {
   "cell_type": "code",
   "execution_count": 323,
   "id": "70a29996",
   "metadata": {},
   "outputs": [],
   "source": [
    "shop_list.sort()"
   ]
  },
  {
   "cell_type": "code",
   "execution_count": 324,
   "id": "e25aa61b",
   "metadata": {},
   "outputs": [
    {
     "data": {
      "text/plain": [
       "['Apple', 'Avocado', 'Bread', 'Bread', 'Coffee']"
      ]
     },
     "execution_count": 324,
     "metadata": {},
     "output_type": "execute_result"
    }
   ],
   "source": [
    "shop_list"
   ]
  },
  {
   "cell_type": "code",
   "execution_count": 325,
   "id": "0665f3fc",
   "metadata": {},
   "outputs": [],
   "source": [
    "### copy()"
   ]
  },
  {
   "cell_type": "code",
   "execution_count": 326,
   "id": "a527b2fb",
   "metadata": {},
   "outputs": [],
   "source": [
    "ls1 = [1,2,3]"
   ]
  },
  {
   "cell_type": "code",
   "execution_count": 327,
   "id": "d786e7ad",
   "metadata": {},
   "outputs": [],
   "source": [
    "ls2 = ls1"
   ]
  },
  {
   "cell_type": "code",
   "execution_count": 328,
   "id": "88d94f32",
   "metadata": {},
   "outputs": [
    {
     "data": {
      "text/plain": [
       "[1, 2, 3]"
      ]
     },
     "execution_count": 328,
     "metadata": {},
     "output_type": "execute_result"
    }
   ],
   "source": [
    "ls2"
   ]
  },
  {
   "cell_type": "code",
   "execution_count": 329,
   "id": "2e5db67c",
   "metadata": {},
   "outputs": [],
   "source": [
    "ls2[1] = 100"
   ]
  },
  {
   "cell_type": "code",
   "execution_count": 330,
   "id": "713ff995",
   "metadata": {},
   "outputs": [
    {
     "data": {
      "text/plain": [
       "[1, 100, 3]"
      ]
     },
     "execution_count": 330,
     "metadata": {},
     "output_type": "execute_result"
    }
   ],
   "source": [
    "ls2"
   ]
  },
  {
   "cell_type": "code",
   "execution_count": 331,
   "id": "29a9d08b",
   "metadata": {},
   "outputs": [
    {
     "data": {
      "text/plain": [
       "[1, 100, 3]"
      ]
     },
     "execution_count": 331,
     "metadata": {},
     "output_type": "execute_result"
    }
   ],
   "source": [
    "ls1"
   ]
  },
  {
   "cell_type": "code",
   "execution_count": 332,
   "id": "55a2bf6b",
   "metadata": {},
   "outputs": [],
   "source": [
    "ls1 = [1,2,3]\n",
    "ls3 = ls1.copy()"
   ]
  },
  {
   "cell_type": "code",
   "execution_count": 333,
   "id": "485ea026",
   "metadata": {},
   "outputs": [],
   "source": [
    "ls3[1] = 100"
   ]
  },
  {
   "cell_type": "code",
   "execution_count": 334,
   "id": "079a263b",
   "metadata": {},
   "outputs": [
    {
     "data": {
      "text/plain": [
       "[1, 100, 3]"
      ]
     },
     "execution_count": 334,
     "metadata": {},
     "output_type": "execute_result"
    }
   ],
   "source": [
    "ls3"
   ]
  },
  {
   "cell_type": "code",
   "execution_count": 335,
   "id": "9920c4d9",
   "metadata": {},
   "outputs": [
    {
     "data": {
      "text/plain": [
       "[1, 2, 3]"
      ]
     },
     "execution_count": 335,
     "metadata": {},
     "output_type": "execute_result"
    }
   ],
   "source": [
    "ls1"
   ]
  },
  {
   "cell_type": "markdown",
   "id": "47cb3e0f",
   "metadata": {},
   "source": [
    "### Identity Operation"
   ]
  },
  {
   "cell_type": "code",
   "execution_count": 336,
   "id": "cba3ca45",
   "metadata": {},
   "outputs": [],
   "source": [
    "ls1 = [1,2,3]"
   ]
  },
  {
   "cell_type": "code",
   "execution_count": 337,
   "id": "57645ce8",
   "metadata": {},
   "outputs": [],
   "source": [
    "ls2 = ls1"
   ]
  },
  {
   "cell_type": "code",
   "execution_count": 338,
   "id": "e9642f94",
   "metadata": {},
   "outputs": [],
   "source": [
    "ls3 = ls1.copy()"
   ]
  },
  {
   "cell_type": "code",
   "execution_count": 339,
   "id": "b2cc878b",
   "metadata": {},
   "outputs": [
    {
     "data": {
      "text/plain": [
       "(True, True)"
      ]
     },
     "execution_count": 339,
     "metadata": {},
     "output_type": "execute_result"
    }
   ],
   "source": [
    "ls1 == ls2 , ls1 is ls2"
   ]
  },
  {
   "cell_type": "code",
   "execution_count": 340,
   "id": "20b67e47",
   "metadata": {},
   "outputs": [
    {
     "data": {
      "text/plain": [
       "(True, False)"
      ]
     },
     "execution_count": 340,
     "metadata": {},
     "output_type": "execute_result"
    }
   ],
   "source": [
    "ls1 == ls3, ls1 is ls3"
   ]
  },
  {
   "cell_type": "code",
   "execution_count": 341,
   "id": "b34aab00",
   "metadata": {},
   "outputs": [
    {
     "data": {
      "text/plain": [
       "['__add__',\n",
       " '__class__',\n",
       " '__class_getitem__',\n",
       " '__contains__',\n",
       " '__delattr__',\n",
       " '__dir__',\n",
       " '__doc__',\n",
       " '__eq__',\n",
       " '__format__',\n",
       " '__ge__',\n",
       " '__getattribute__',\n",
       " '__getitem__',\n",
       " '__getnewargs__',\n",
       " '__gt__',\n",
       " '__hash__',\n",
       " '__init__',\n",
       " '__init_subclass__',\n",
       " '__iter__',\n",
       " '__le__',\n",
       " '__len__',\n",
       " '__lt__',\n",
       " '__mul__',\n",
       " '__ne__',\n",
       " '__new__',\n",
       " '__reduce__',\n",
       " '__reduce_ex__',\n",
       " '__repr__',\n",
       " '__rmul__',\n",
       " '__setattr__',\n",
       " '__sizeof__',\n",
       " '__str__',\n",
       " '__subclasshook__',\n",
       " 'count',\n",
       " 'index']"
      ]
     },
     "execution_count": 341,
     "metadata": {},
     "output_type": "execute_result"
    }
   ],
   "source": [
    "dir(tuple)"
   ]
  },
  {
   "cell_type": "code",
   "execution_count": 342,
   "id": "b0a26f4c",
   "metadata": {},
   "outputs": [],
   "source": [
    "x = (1,2,3)"
   ]
  },
  {
   "cell_type": "code",
   "execution_count": 343,
   "id": "a1f60028",
   "metadata": {},
   "outputs": [
    {
     "data": {
      "text/plain": [
       "tuple"
      ]
     },
     "execution_count": 343,
     "metadata": {},
     "output_type": "execute_result"
    }
   ],
   "source": [
    "type(x)"
   ]
  },
  {
   "cell_type": "code",
   "execution_count": 344,
   "id": "2ad8733e",
   "metadata": {},
   "outputs": [
    {
     "data": {
      "text/plain": [
       "1"
      ]
     },
     "execution_count": 344,
     "metadata": {},
     "output_type": "execute_result"
    }
   ],
   "source": [
    "x.index(2)"
   ]
  },
  {
   "cell_type": "code",
   "execution_count": 345,
   "id": "f7f76147",
   "metadata": {},
   "outputs": [
    {
     "data": {
      "text/plain": [
       "1"
      ]
     },
     "execution_count": 345,
     "metadata": {},
     "output_type": "execute_result"
    }
   ],
   "source": [
    "x.count(2)"
   ]
  },
  {
   "cell_type": "code",
   "execution_count": 346,
   "id": "0c247a09",
   "metadata": {},
   "outputs": [],
   "source": [
    "y =('a','b','b','c')"
   ]
  },
  {
   "cell_type": "code",
   "execution_count": 347,
   "id": "bd22b202",
   "metadata": {},
   "outputs": [
    {
     "data": {
      "text/plain": [
       "1"
      ]
     },
     "execution_count": 347,
     "metadata": {},
     "output_type": "execute_result"
    }
   ],
   "source": [
    "y.count('c')"
   ]
  },
  {
   "cell_type": "markdown",
   "id": "334e825a",
   "metadata": {},
   "source": [
    "### String Methods"
   ]
  },
  {
   "cell_type": "code",
   "execution_count": 348,
   "id": "9f4b22b1",
   "metadata": {},
   "outputs": [],
   "source": [
    "s1 = 'i love python'"
   ]
  },
  {
   "cell_type": "code",
   "execution_count": 349,
   "id": "d549a544",
   "metadata": {},
   "outputs": [
    {
     "data": {
      "text/plain": [
       "'I love python'"
      ]
     },
     "execution_count": 349,
     "metadata": {},
     "output_type": "execute_result"
    }
   ],
   "source": [
    "s1.capitalize()"
   ]
  },
  {
   "cell_type": "code",
   "execution_count": 350,
   "id": "448d5821",
   "metadata": {},
   "outputs": [
    {
     "data": {
      "text/plain": [
       "'i love python'"
      ]
     },
     "execution_count": 350,
     "metadata": {},
     "output_type": "execute_result"
    }
   ],
   "source": [
    "s1"
   ]
  },
  {
   "cell_type": "code",
   "execution_count": 351,
   "id": "e82f936f",
   "metadata": {},
   "outputs": [
    {
     "data": {
      "text/plain": [
       "'I Love Python'"
      ]
     },
     "execution_count": 351,
     "metadata": {},
     "output_type": "execute_result"
    }
   ],
   "source": [
    "s1.title()"
   ]
  },
  {
   "cell_type": "code",
   "execution_count": 352,
   "id": "8aaca46e",
   "metadata": {},
   "outputs": [
    {
     "data": {
      "text/plain": [
       "'I LOVE PYTHON'"
      ]
     },
     "execution_count": 352,
     "metadata": {},
     "output_type": "execute_result"
    }
   ],
   "source": [
    "s1.upper()"
   ]
  },
  {
   "cell_type": "code",
   "execution_count": 353,
   "id": "aca52d86",
   "metadata": {},
   "outputs": [],
   "source": [
    "s2 = 'Happy Birth Day'"
   ]
  },
  {
   "cell_type": "code",
   "execution_count": 354,
   "id": "1bc7742e",
   "metadata": {},
   "outputs": [
    {
     "data": {
      "text/plain": [
       "'happy birth day'"
      ]
     },
     "execution_count": 354,
     "metadata": {},
     "output_type": "execute_result"
    }
   ],
   "source": [
    "s2.lower()"
   ]
  },
  {
   "cell_type": "code",
   "execution_count": 355,
   "id": "1287b8b8",
   "metadata": {},
   "outputs": [
    {
     "data": {
      "text/plain": [
       "'hAPPY bIRTH dAY'"
      ]
     },
     "execution_count": 355,
     "metadata": {},
     "output_type": "execute_result"
    }
   ],
   "source": [
    "s2.swapcase()"
   ]
  },
  {
   "cell_type": "code",
   "execution_count": 356,
   "id": "ed4e2f40",
   "metadata": {},
   "outputs": [
    {
     "data": {
      "text/plain": [
       "(True, False, True)"
      ]
     },
     "execution_count": 356,
     "metadata": {},
     "output_type": "execute_result"
    }
   ],
   "source": [
    "'python'.islower(), 'Python'.isupper(), 'PYTHON'.isupper()"
   ]
  },
  {
   "cell_type": "code",
   "execution_count": 357,
   "id": "9b43b7f8",
   "metadata": {},
   "outputs": [
    {
     "data": {
      "text/plain": [
       "(True, False)"
      ]
     },
     "execution_count": 357,
     "metadata": {},
     "output_type": "execute_result"
    }
   ],
   "source": [
    "'python'.startswith('py'), 'python'.startswith('on')"
   ]
  },
  {
   "cell_type": "code",
   "execution_count": 358,
   "id": "c5eab63c",
   "metadata": {},
   "outputs": [
    {
     "data": {
      "text/plain": [
       "(False, True)"
      ]
     },
     "execution_count": 358,
     "metadata": {},
     "output_type": "execute_result"
    }
   ],
   "source": [
    "'python'.endswith('py'), 'python'.endswith('on')"
   ]
  },
  {
   "cell_type": "code",
   "execution_count": 359,
   "id": "53f9e8d4",
   "metadata": {},
   "outputs": [],
   "source": [
    "s1 = '  Python  '"
   ]
  },
  {
   "cell_type": "code",
   "execution_count": 360,
   "id": "ac30e0b4",
   "metadata": {},
   "outputs": [
    {
     "data": {
      "text/plain": [
       "'Python'"
      ]
     },
     "execution_count": 360,
     "metadata": {},
     "output_type": "execute_result"
    }
   ],
   "source": [
    "s1.strip()"
   ]
  },
  {
   "cell_type": "code",
   "execution_count": 361,
   "id": "2f5df906",
   "metadata": {},
   "outputs": [
    {
     "data": {
      "text/plain": [
       "('Python  ', '  Python')"
      ]
     },
     "execution_count": 361,
     "metadata": {},
     "output_type": "execute_result"
    }
   ],
   "source": [
    "s1.lstrip(), s1.rstrip()"
   ]
  },
  {
   "cell_type": "code",
   "execution_count": 362,
   "id": "4dc5374c",
   "metadata": {},
   "outputs": [],
   "source": [
    "s2 = 'python3.0'"
   ]
  },
  {
   "cell_type": "code",
   "execution_count": 363,
   "id": "509ce41f",
   "metadata": {},
   "outputs": [
    {
     "data": {
      "text/plain": [
       "(False, False, False)"
      ]
     },
     "execution_count": 363,
     "metadata": {},
     "output_type": "execute_result"
    }
   ],
   "source": [
    "s2.isalpha(), s2.isalnum(), s2.isnumeric()"
   ]
  },
  {
   "cell_type": "code",
   "execution_count": 364,
   "id": "79fb5539",
   "metadata": {},
   "outputs": [],
   "source": [
    "str1 = 'Apple,Orange,Grapes,Mango'"
   ]
  },
  {
   "cell_type": "code",
   "execution_count": 365,
   "id": "481a4449",
   "metadata": {},
   "outputs": [
    {
     "name": "stdout",
     "output_type": "stream",
     "text": [
      "A\n",
      "p\n",
      "p\n",
      "l\n",
      "e\n",
      ",\n",
      "O\n",
      "r\n",
      "a\n",
      "n\n",
      "g\n",
      "e\n",
      ",\n",
      "G\n",
      "r\n",
      "a\n",
      "p\n",
      "e\n",
      "s\n",
      ",\n",
      "M\n",
      "a\n",
      "n\n",
      "g\n",
      "o\n"
     ]
    }
   ],
   "source": [
    "for x in str1:\n",
    "    print(x)"
   ]
  },
  {
   "cell_type": "code",
   "execution_count": 366,
   "id": "9a0ee2de",
   "metadata": {},
   "outputs": [
    {
     "data": {
      "text/plain": [
       "['Apple', 'Orange', 'Grapes', 'Mango']"
      ]
     },
     "execution_count": 366,
     "metadata": {},
     "output_type": "execute_result"
    }
   ],
   "source": [
    "str1.split(',')"
   ]
  },
  {
   "cell_type": "code",
   "execution_count": 367,
   "id": "040a77e5",
   "metadata": {},
   "outputs": [],
   "source": [
    "str1 = 'Apple|Orange|Grapes|Mango'"
   ]
  },
  {
   "cell_type": "code",
   "execution_count": 368,
   "id": "16845559",
   "metadata": {},
   "outputs": [
    {
     "data": {
      "text/plain": [
       "['Apple', 'Orange', 'Grapes', 'Mango']"
      ]
     },
     "execution_count": 368,
     "metadata": {},
     "output_type": "execute_result"
    }
   ],
   "source": [
    "str1.split('|')"
   ]
  },
  {
   "cell_type": "code",
   "execution_count": 369,
   "id": "3320cb98",
   "metadata": {},
   "outputs": [],
   "source": [
    "str1 = 'Apple,Orange|Grapes|Mango'"
   ]
  },
  {
   "cell_type": "code",
   "execution_count": 370,
   "id": "3a4a0acd",
   "metadata": {},
   "outputs": [
    {
     "data": {
      "text/plain": [
       "['Apple,Orange', 'Grapes', 'Mango']"
      ]
     },
     "execution_count": 370,
     "metadata": {},
     "output_type": "execute_result"
    }
   ],
   "source": [
    "str1.split('|')"
   ]
  },
  {
   "cell_type": "code",
   "execution_count": 371,
   "id": "cb01ef74",
   "metadata": {},
   "outputs": [],
   "source": [
    "x = \"This is an example of a long text. I want to demonstrate splitting of a string\""
   ]
  },
  {
   "cell_type": "code",
   "execution_count": 372,
   "id": "cd3d7538",
   "metadata": {},
   "outputs": [],
   "source": [
    "#x = \"This is an example of a long text\""
   ]
  },
  {
   "cell_type": "code",
   "execution_count": 373,
   "id": "eb0af45a",
   "metadata": {},
   "outputs": [
    {
     "data": {
      "text/plain": [
       "['This',\n",
       " 'is',\n",
       " 'an',\n",
       " 'example',\n",
       " 'of',\n",
       " 'a',\n",
       " 'long',\n",
       " 'text.',\n",
       " 'I',\n",
       " 'want',\n",
       " 'to',\n",
       " 'demonstrate',\n",
       " 'splitting',\n",
       " 'of',\n",
       " 'a',\n",
       " 'string']"
      ]
     },
     "execution_count": 373,
     "metadata": {},
     "output_type": "execute_result"
    }
   ],
   "source": [
    "x.split(' ')"
   ]
  },
  {
   "cell_type": "code",
   "execution_count": 374,
   "id": "3459c830",
   "metadata": {},
   "outputs": [],
   "source": [
    "lst = [3,4,2,1]"
   ]
  },
  {
   "cell_type": "code",
   "execution_count": 375,
   "id": "2fbe9610",
   "metadata": {},
   "outputs": [],
   "source": [
    "lst.sort()"
   ]
  },
  {
   "cell_type": "code",
   "execution_count": 376,
   "id": "2f907a2d",
   "metadata": {},
   "outputs": [
    {
     "data": {
      "text/plain": [
       "[1, 2, 3, 4]"
      ]
     },
     "execution_count": 376,
     "metadata": {},
     "output_type": "execute_result"
    }
   ],
   "source": [
    "lst"
   ]
  },
  {
   "cell_type": "markdown",
   "id": "c9088f85",
   "metadata": {},
   "source": [
    "### for loop - Iterate over a sequence"
   ]
  },
  {
   "cell_type": "code",
   "execution_count": 377,
   "id": "91fa7258",
   "metadata": {},
   "outputs": [],
   "source": [
    "lst = [19,87,65,48,88]"
   ]
  },
  {
   "cell_type": "code",
   "execution_count": 378,
   "id": "fda7a4d6",
   "metadata": {},
   "outputs": [
    {
     "name": "stdout",
     "output_type": "stream",
     "text": [
      "19\n",
      "Hi\n",
      "87\n",
      "Hi\n",
      "65\n",
      "Hi\n",
      "48\n",
      "Hi\n",
      "88\n",
      "Hi\n",
      "Hello\n"
     ]
    }
   ],
   "source": [
    "for elem in lst:\n",
    "    print(elem)\n",
    "    print('Hi')\n",
    "print('Hello')"
   ]
  },
  {
   "cell_type": "code",
   "execution_count": 379,
   "id": "52ffb768",
   "metadata": {},
   "outputs": [],
   "source": [
    "str1 = 'Python3.0'"
   ]
  },
  {
   "cell_type": "code",
   "execution_count": 380,
   "id": "6e47716f",
   "metadata": {},
   "outputs": [
    {
     "name": "stdout",
     "output_type": "stream",
     "text": [
      "P\n",
      "y\n",
      "t\n",
      "h\n",
      "o\n",
      "n\n",
      "3\n",
      ".\n",
      "0\n"
     ]
    }
   ],
   "source": [
    "for c in str1:\n",
    "    print(c)"
   ]
  },
  {
   "cell_type": "code",
   "execution_count": 381,
   "id": "375ee6db",
   "metadata": {},
   "outputs": [],
   "source": [
    "tup = (45,67,88)"
   ]
  },
  {
   "cell_type": "code",
   "execution_count": 382,
   "id": "fcf1da2b",
   "metadata": {},
   "outputs": [
    {
     "name": "stdout",
     "output_type": "stream",
     "text": [
      "45\n",
      "67\n",
      "88\n"
     ]
    }
   ],
   "source": [
    "for x in tup:\n",
    "    print(x)"
   ]
  },
  {
   "cell_type": "code",
   "execution_count": 383,
   "id": "fdba4ae1",
   "metadata": {},
   "outputs": [],
   "source": [
    "lst = [19,87,65,48,88]"
   ]
  },
  {
   "cell_type": "code",
   "execution_count": 384,
   "id": "7e23e774",
   "metadata": {},
   "outputs": [
    {
     "name": "stdout",
     "output_type": "stream",
     "text": [
      "*\n",
      "*\n",
      "*\n",
      "*\n",
      "*\n"
     ]
    }
   ],
   "source": [
    "for x in lst:\n",
    "    print('*')"
   ]
  },
  {
   "cell_type": "markdown",
   "id": "bd416cc9",
   "metadata": {},
   "source": [
    "### List comprehension"
   ]
  },
  {
   "cell_type": "code",
   "execution_count": 385,
   "id": "aa1002bc",
   "metadata": {},
   "outputs": [],
   "source": [
    "lst = [1,2,3,4,5,6,7]"
   ]
  },
  {
   "cell_type": "code",
   "execution_count": 386,
   "id": "2d6d22e6",
   "metadata": {},
   "outputs": [],
   "source": [
    "new_lst = []\n",
    "for x in lst:\n",
    "    new_lst.append(x**2)"
   ]
  },
  {
   "cell_type": "code",
   "execution_count": 387,
   "id": "c4739bb6",
   "metadata": {},
   "outputs": [
    {
     "data": {
      "text/plain": [
       "[1, 4, 9, 16, 25, 36, 49]"
      ]
     },
     "execution_count": 387,
     "metadata": {},
     "output_type": "execute_result"
    }
   ],
   "source": [
    "new_lst"
   ]
  },
  {
   "cell_type": "code",
   "execution_count": 388,
   "id": "001c664b",
   "metadata": {},
   "outputs": [],
   "source": [
    "sqr_lst = [x**2 for x in lst]"
   ]
  },
  {
   "cell_type": "code",
   "execution_count": 389,
   "id": "56195488",
   "metadata": {},
   "outputs": [
    {
     "data": {
      "text/plain": [
       "[1, 4, 9, 16, 25, 36, 49]"
      ]
     },
     "execution_count": 389,
     "metadata": {},
     "output_type": "execute_result"
    }
   ],
   "source": [
    "sqr_lst"
   ]
  },
  {
   "cell_type": "code",
   "execution_count": 390,
   "id": "138c025e",
   "metadata": {},
   "outputs": [],
   "source": [
    "sqr_lst = [x**2 for x in lst if (x%2 == 0) ]"
   ]
  },
  {
   "cell_type": "code",
   "execution_count": 391,
   "id": "b64adb71",
   "metadata": {},
   "outputs": [
    {
     "data": {
      "text/plain": [
       "[4, 16, 36]"
      ]
     },
     "execution_count": 391,
     "metadata": {},
     "output_type": "execute_result"
    }
   ],
   "source": [
    "sqr_lst"
   ]
  },
  {
   "cell_type": "code",
   "execution_count": 392,
   "id": "005634a9",
   "metadata": {},
   "outputs": [],
   "source": [
    "lst = [1,2,3,4,5,6,7]"
   ]
  },
  {
   "cell_type": "code",
   "execution_count": 393,
   "id": "21d11ba3",
   "metadata": {},
   "outputs": [],
   "source": [
    "new_lst = [x*100 for x in lst ]"
   ]
  },
  {
   "cell_type": "code",
   "execution_count": 394,
   "id": "ca007491",
   "metadata": {},
   "outputs": [
    {
     "data": {
      "text/plain": [
       "[100, 200, 300, 400, 500, 600, 700]"
      ]
     },
     "execution_count": 394,
     "metadata": {},
     "output_type": "execute_result"
    }
   ],
   "source": [
    "new_lst"
   ]
  },
  {
   "cell_type": "code",
   "execution_count": null,
   "id": "86039dd3",
   "metadata": {},
   "outputs": [],
   "source": []
  },
  {
   "cell_type": "code",
   "execution_count": null,
   "id": "d23c87d9",
   "metadata": {},
   "outputs": [],
   "source": []
  }
 ],
 "metadata": {
  "kernelspec": {
   "display_name": "Python 3",
   "language": "python",
   "name": "python3"
  },
  "language_info": {
   "codemirror_mode": {
    "name": "ipython",
    "version": 3
   },
   "file_extension": ".py",
   "mimetype": "text/x-python",
   "name": "python",
   "nbconvert_exporter": "python",
   "pygments_lexer": "ipython3",
   "version": "3.10.13"
  }
 },
 "nbformat": 4,
 "nbformat_minor": 5
}
